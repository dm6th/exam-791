{
  "cells": [
    {
      "cell_type": "code",
      "execution_count": null,
      "id": "4209d102",
      "metadata": {
        "id": "4209d102"
      },
      "outputs": [],
      "source": [
        "import pandas as pd\n",
        "import numpy as np\n",
        "%matplotlib inline\n",
        "import matplotlib.pyplot as plt\n",
        "import seaborn as sns\n",
        "import scipy.stats as stats"
      ]
    },
    {
      "cell_type": "code",
      "execution_count": null,
      "id": "001d4c6f",
      "metadata": {
        "id": "001d4c6f"
      },
      "outputs": [],
      "source": [
        "df = pd.read_csv('Dirty UGRansome.csv')"
      ]
    },
    {
      "cell_type": "code",
      "execution_count": null,
      "id": "6b8fa3f5",
      "metadata": {
        "id": "6b8fa3f5",
        "outputId": "951ce22a-b8df-42df-f665-f3b4cebc0aef"
      },
      "outputs": [
        {
          "data": {
            "text/html": [
              "<div>\n",
              "<style scoped>\n",
              "    .dataframe tbody tr th:only-of-type {\n",
              "        vertical-align: middle;\n",
              "    }\n",
              "\n",
              "    .dataframe tbody tr th {\n",
              "        vertical-align: top;\n",
              "    }\n",
              "\n",
              "    .dataframe thead th {\n",
              "        text-align: right;\n",
              "    }\n",
              "</style>\n",
              "<table border=\"1\" class=\"dataframe\">\n",
              "  <thead>\n",
              "    <tr style=\"text-align: right;\">\n",
              "      <th></th>\n",
              "      <th>50</th>\n",
              "      <th>TCP</th>\n",
              "      <th>A</th>\n",
              "      <th>WannaCry</th>\n",
              "      <th>1</th>\n",
              "      <th>1DA11mPS</th>\n",
              "      <th>1BonuSr7</th>\n",
              "      <th>1.1</th>\n",
              "      <th>500</th>\n",
              "      <th>5</th>\n",
              "      <th>A.1</th>\n",
              "      <th>Bonet</th>\n",
              "      <th>5061</th>\n",
              "      <th>SS</th>\n",
              "    </tr>\n",
              "  </thead>\n",
              "  <tbody>\n",
              "    <tr>\n",
              "      <th>0</th>\n",
              "      <td>40</td>\n",
              "      <td>TCP</td>\n",
              "      <td>A</td>\n",
              "      <td>WannaCry</td>\n",
              "      <td>1</td>\n",
              "      <td>1DA11mPS</td>\n",
              "      <td>1BonuSr7</td>\n",
              "      <td>1</td>\n",
              "      <td>504</td>\n",
              "      <td>8</td>\n",
              "      <td>A</td>\n",
              "      <td>Bonet</td>\n",
              "      <td>5061</td>\n",
              "      <td>SS</td>\n",
              "    </tr>\n",
              "    <tr>\n",
              "      <th>1</th>\n",
              "      <td>30</td>\n",
              "      <td>TCP</td>\n",
              "      <td>A</td>\n",
              "      <td>WannaCry</td>\n",
              "      <td>1</td>\n",
              "      <td>1DA11mPS</td>\n",
              "      <td>1BonuSr7</td>\n",
              "      <td>1</td>\n",
              "      <td>508</td>\n",
              "      <td>7</td>\n",
              "      <td>A</td>\n",
              "      <td>Bonet</td>\n",
              "      <td>5061</td>\n",
              "      <td>SS</td>\n",
              "    </tr>\n",
              "    <tr>\n",
              "      <th>2</th>\n",
              "      <td>20</td>\n",
              "      <td>TCP</td>\n",
              "      <td>A</td>\n",
              "      <td>WannaCry</td>\n",
              "      <td>1</td>\n",
              "      <td>1DA11mPS</td>\n",
              "      <td>1BonuSr7</td>\n",
              "      <td>1</td>\n",
              "      <td>512</td>\n",
              "      <td>15</td>\n",
              "      <td>A</td>\n",
              "      <td>Bonet</td>\n",
              "      <td>5061</td>\n",
              "      <td>SS</td>\n",
              "    </tr>\n",
              "    <tr>\n",
              "      <th>3</th>\n",
              "      <td>57</td>\n",
              "      <td>TCP</td>\n",
              "      <td>A</td>\n",
              "      <td>WannaCry</td>\n",
              "      <td>1</td>\n",
              "      <td>1DA11mPS</td>\n",
              "      <td>1BonuSr7</td>\n",
              "      <td>1</td>\n",
              "      <td>516</td>\n",
              "      <td>9</td>\n",
              "      <td>A</td>\n",
              "      <td>Bonet</td>\n",
              "      <td>5061</td>\n",
              "      <td>SS</td>\n",
              "    </tr>\n",
              "    <tr>\n",
              "      <th>4</th>\n",
              "      <td>41</td>\n",
              "      <td>TCP</td>\n",
              "      <td>A</td>\n",
              "      <td>WannaCry</td>\n",
              "      <td>1</td>\n",
              "      <td>1DA11mPS</td>\n",
              "      <td>1BonuSr7</td>\n",
              "      <td>1</td>\n",
              "      <td>520</td>\n",
              "      <td>17</td>\n",
              "      <td>A</td>\n",
              "      <td>Bonet</td>\n",
              "      <td>5061</td>\n",
              "      <td>SS</td>\n",
              "    </tr>\n",
              "    <tr>\n",
              "      <th>...</th>\n",
              "      <td>...</td>\n",
              "      <td>...</td>\n",
              "      <td>...</td>\n",
              "      <td>...</td>\n",
              "      <td>...</td>\n",
              "      <td>...</td>\n",
              "      <td>...</td>\n",
              "      <td>...</td>\n",
              "      <td>...</td>\n",
              "      <td>...</td>\n",
              "      <td>...</td>\n",
              "      <td>...</td>\n",
              "      <td>...</td>\n",
              "      <td>...</td>\n",
              "    </tr>\n",
              "    <tr>\n",
              "      <th>207528</th>\n",
              "      <td>12</td>\n",
              "      <td>TCP</td>\n",
              "      <td>APSF</td>\n",
              "      <td>Flyper</td>\n",
              "      <td>8</td>\n",
              "      <td>1AEoiHYZ</td>\n",
              "      <td>1SYSTEMQ</td>\n",
              "      <td>1964</td>\n",
              "      <td>2986</td>\n",
              "      <td>6081</td>\n",
              "      <td>A</td>\n",
              "      <td>UDP Scan</td>\n",
              "      <td>5062</td>\n",
              "      <td>A</td>\n",
              "    </tr>\n",
              "    <tr>\n",
              "      <th>207529</th>\n",
              "      <td>8</td>\n",
              "      <td>TCP</td>\n",
              "      <td>APSF</td>\n",
              "      <td>Flyper</td>\n",
              "      <td>8</td>\n",
              "      <td>1AEoiHYZ</td>\n",
              "      <td>1SYSTEMQ</td>\n",
              "      <td>1968</td>\n",
              "      <td>2992</td>\n",
              "      <td>6092</td>\n",
              "      <td>A</td>\n",
              "      <td>UDP Scan</td>\n",
              "      <td>5062</td>\n",
              "      <td>A</td>\n",
              "    </tr>\n",
              "    <tr>\n",
              "      <th>207530</th>\n",
              "      <td>8</td>\n",
              "      <td>TCP</td>\n",
              "      <td>APSF</td>\n",
              "      <td>Flyper</td>\n",
              "      <td>8</td>\n",
              "      <td>1AEoiHYZ</td>\n",
              "      <td>1SYSTEMQ</td>\n",
              "      <td>1972</td>\n",
              "      <td>2998</td>\n",
              "      <td>6103</td>\n",
              "      <td>A</td>\n",
              "      <td>UDP Scan</td>\n",
              "      <td>5062</td>\n",
              "      <td>A</td>\n",
              "    </tr>\n",
              "    <tr>\n",
              "      <th>207531</th>\n",
              "      <td>8</td>\n",
              "      <td>TCP</td>\n",
              "      <td>APSF</td>\n",
              "      <td>Flyper</td>\n",
              "      <td>8</td>\n",
              "      <td>1AEoiHYZ</td>\n",
              "      <td>1SYSTEMQ</td>\n",
              "      <td>1976</td>\n",
              "      <td>3004</td>\n",
              "      <td>6114</td>\n",
              "      <td>A</td>\n",
              "      <td>UDP Scan</td>\n",
              "      <td>5062</td>\n",
              "      <td>A</td>\n",
              "    </tr>\n",
              "    <tr>\n",
              "      <th>207532</th>\n",
              "      <td>8</td>\n",
              "      <td>TCP</td>\n",
              "      <td>APSF</td>\n",
              "      <td>Flyper</td>\n",
              "      <td>8</td>\n",
              "      <td>1AEoiHYZ</td>\n",
              "      <td>1SYSTEMQ</td>\n",
              "      <td>1980</td>\n",
              "      <td>3010</td>\n",
              "      <td>6125</td>\n",
              "      <td>A</td>\n",
              "      <td>UDP Scan</td>\n",
              "      <td>5062</td>\n",
              "      <td>A</td>\n",
              "    </tr>\n",
              "  </tbody>\n",
              "</table>\n",
              "<p>207533 rows × 14 columns</p>\n",
              "</div>"
            ],
            "text/plain": [
              "        50  TCP     A  WannaCry  1  1DA11mPS  1BonuSr7   1.1   500     5 A.1  \\\n",
              "0       40  TCP     A  WannaCry  1  1DA11mPS  1BonuSr7     1   504     8   A   \n",
              "1       30  TCP     A  WannaCry  1  1DA11mPS  1BonuSr7     1   508     7   A   \n",
              "2       20  TCP     A  WannaCry  1  1DA11mPS  1BonuSr7     1   512    15   A   \n",
              "3       57  TCP     A  WannaCry  1  1DA11mPS  1BonuSr7     1   516     9   A   \n",
              "4       41  TCP     A  WannaCry  1  1DA11mPS  1BonuSr7     1   520    17   A   \n",
              "...     ..  ...   ...       ... ..       ...       ...   ...   ...   ...  ..   \n",
              "207528  12  TCP  APSF    Flyper  8  1AEoiHYZ  1SYSTEMQ  1964  2986  6081   A   \n",
              "207529   8  TCP  APSF    Flyper  8  1AEoiHYZ  1SYSTEMQ  1968  2992  6092   A   \n",
              "207530   8  TCP  APSF    Flyper  8  1AEoiHYZ  1SYSTEMQ  1972  2998  6103   A   \n",
              "207531   8  TCP  APSF    Flyper  8  1AEoiHYZ  1SYSTEMQ  1976  3004  6114   A   \n",
              "207532   8  TCP  APSF    Flyper  8  1AEoiHYZ  1SYSTEMQ  1980  3010  6125   A   \n",
              "\n",
              "           Bonet  5061  SS  \n",
              "0          Bonet  5061  SS  \n",
              "1          Bonet  5061  SS  \n",
              "2          Bonet  5061  SS  \n",
              "3          Bonet  5061  SS  \n",
              "4          Bonet  5061  SS  \n",
              "...          ...   ...  ..  \n",
              "207528  UDP Scan  5062   A  \n",
              "207529  UDP Scan  5062   A  \n",
              "207530  UDP Scan  5062   A  \n",
              "207531  UDP Scan  5062   A  \n",
              "207532  UDP Scan  5062   A  \n",
              "\n",
              "[207533 rows x 14 columns]"
            ]
          },
          "execution_count": 3,
          "metadata": {},
          "output_type": "execute_result"
        }
      ],
      "source": [
        "df"
      ]
    },
    {
      "cell_type": "code",
      "execution_count": null,
      "id": "8da7a6d1",
      "metadata": {
        "id": "8da7a6d1"
      },
      "outputs": [],
      "source": [
        "# Remove duplicates based on all columns\n",
        "df = df.drop_duplicates()"
      ]
    },
    {
      "cell_type": "code",
      "execution_count": null,
      "id": "c84069b6",
      "metadata": {
        "id": "c84069b6",
        "outputId": "b7dd03f5-3bec-4c76-c715-85700adce26c"
      },
      "outputs": [
        {
          "name": "stdout",
          "output_type": "stream",
          "text": [
            "No duplicates found in the DataFrame.\n"
          ]
        }
      ],
      "source": [
        "# Check for duplicates\n",
        "duplicates_exist = df.duplicated().any()\n",
        "\n",
        "if duplicates_exist:\n",
        "    print(\"Duplicates exist in the DataFrame.\")\n",
        "else:\n",
        "    print(\"No duplicates found in the DataFrame.\")"
      ]
    },
    {
      "cell_type": "code",
      "execution_count": null,
      "id": "7ede501e",
      "metadata": {
        "id": "7ede501e",
        "outputId": "ff49395e-145c-4a83-c26f-d745eb79f264"
      },
      "outputs": [
        {
          "data": {
            "text/plain": [
              "50          0\n",
              "TCP         0\n",
              "A           0\n",
              "WannaCry    0\n",
              "1           0\n",
              "1DA11mPS    0\n",
              "1BonuSr7    0\n",
              "1.1         0\n",
              "500         0\n",
              "5           0\n",
              "A.1         0\n",
              "Bonet       0\n",
              "5061        0\n",
              "SS          0\n",
              "dtype: int64"
            ]
          },
          "execution_count": 6,
          "metadata": {},
          "output_type": "execute_result"
        }
      ],
      "source": [
        "# Removes rows with any missing values\n",
        "df = df.dropna()\n",
        "\n",
        "# Returns the count of missing values in each column\n",
        "df.isnull().sum()"
      ]
    },
    {
      "cell_type": "code",
      "execution_count": null,
      "id": "2bd5f7c7",
      "metadata": {
        "id": "2bd5f7c7",
        "outputId": "d99fea34-aa66-45b9-9cf1-cb464ad86c9d"
      },
      "outputs": [
        {
          "data": {
            "text/html": [
              "<div>\n",
              "<style scoped>\n",
              "    .dataframe tbody tr th:only-of-type {\n",
              "        vertical-align: middle;\n",
              "    }\n",
              "\n",
              "    .dataframe tbody tr th {\n",
              "        vertical-align: top;\n",
              "    }\n",
              "\n",
              "    .dataframe thead th {\n",
              "        text-align: right;\n",
              "    }\n",
              "</style>\n",
              "<table border=\"1\" class=\"dataframe\">\n",
              "  <thead>\n",
              "    <tr style=\"text-align: right;\">\n",
              "      <th></th>\n",
              "      <th>50</th>\n",
              "      <th>1</th>\n",
              "      <th>1.1</th>\n",
              "      <th>500</th>\n",
              "      <th>5</th>\n",
              "      <th>5061</th>\n",
              "    </tr>\n",
              "  </thead>\n",
              "  <tbody>\n",
              "    <tr>\n",
              "      <th>count</th>\n",
              "      <td>149042.000000</td>\n",
              "      <td>149042.000000</td>\n",
              "      <td>149042.000000</td>\n",
              "      <td>149042.000000</td>\n",
              "      <td>149042.000000</td>\n",
              "      <td>149042.000000</td>\n",
              "    </tr>\n",
              "    <tr>\n",
              "      <th>mean</th>\n",
              "      <td>21.466788</td>\n",
              "      <td>2.349304</td>\n",
              "      <td>30.554803</td>\n",
              "      <td>14863.537486</td>\n",
              "      <td>2021.292179</td>\n",
              "      <td>5063.949987</td>\n",
              "    </tr>\n",
              "    <tr>\n",
              "      <th>std</th>\n",
              "      <td>15.883480</td>\n",
              "      <td>2.828766</td>\n",
              "      <td>101.447413</td>\n",
              "      <td>26849.498955</td>\n",
              "      <td>2271.422603</td>\n",
              "      <td>2.696009</td>\n",
              "    </tr>\n",
              "    <tr>\n",
              "      <th>min</th>\n",
              "      <td>-10.000000</td>\n",
              "      <td>1.000000</td>\n",
              "      <td>1.000000</td>\n",
              "      <td>1.000000</td>\n",
              "      <td>1.000000</td>\n",
              "      <td>5061.000000</td>\n",
              "    </tr>\n",
              "    <tr>\n",
              "      <th>25%</th>\n",
              "      <td>8.000000</td>\n",
              "      <td>1.000000</td>\n",
              "      <td>8.000000</td>\n",
              "      <td>512.000000</td>\n",
              "      <td>353.000000</td>\n",
              "      <td>5062.000000</td>\n",
              "    </tr>\n",
              "    <tr>\n",
              "      <th>50%</th>\n",
              "      <td>19.000000</td>\n",
              "      <td>1.000000</td>\n",
              "      <td>13.000000</td>\n",
              "      <td>4321.000000</td>\n",
              "      <td>1031.000000</td>\n",
              "      <td>5062.000000</td>\n",
              "    </tr>\n",
              "    <tr>\n",
              "      <th>75%</th>\n",
              "      <td>32.000000</td>\n",
              "      <td>2.000000</td>\n",
              "      <td>22.000000</td>\n",
              "      <td>18454.000000</td>\n",
              "      <td>3188.000000</td>\n",
              "      <td>5066.000000</td>\n",
              "    </tr>\n",
              "    <tr>\n",
              "      <th>max</th>\n",
              "      <td>96.000000</td>\n",
              "      <td>12.000000</td>\n",
              "      <td>1980.000000</td>\n",
              "      <td>126379.000000</td>\n",
              "      <td>12360.000000</td>\n",
              "      <td>5068.000000</td>\n",
              "    </tr>\n",
              "  </tbody>\n",
              "</table>\n",
              "</div>"
            ],
            "text/plain": [
              "                  50              1            1.1            500  \\\n",
              "count  149042.000000  149042.000000  149042.000000  149042.000000   \n",
              "mean       21.466788       2.349304      30.554803   14863.537486   \n",
              "std        15.883480       2.828766     101.447413   26849.498955   \n",
              "min       -10.000000       1.000000       1.000000       1.000000   \n",
              "25%         8.000000       1.000000       8.000000     512.000000   \n",
              "50%        19.000000       1.000000      13.000000    4321.000000   \n",
              "75%        32.000000       2.000000      22.000000   18454.000000   \n",
              "max        96.000000      12.000000    1980.000000  126379.000000   \n",
              "\n",
              "                   5           5061  \n",
              "count  149042.000000  149042.000000  \n",
              "mean     2021.292179    5063.949987  \n",
              "std      2271.422603       2.696009  \n",
              "min         1.000000    5061.000000  \n",
              "25%       353.000000    5062.000000  \n",
              "50%      1031.000000    5062.000000  \n",
              "75%      3188.000000    5066.000000  \n",
              "max     12360.000000    5068.000000  "
            ]
          },
          "execution_count": 7,
          "metadata": {},
          "output_type": "execute_result"
        }
      ],
      "source": [
        "#Statistical summary\n",
        "df.describe()"
      ]
    },
    {
      "cell_type": "code",
      "execution_count": null,
      "id": "bdcbfff7",
      "metadata": {
        "id": "bdcbfff7",
        "outputId": "804cea73-2625-4748-dccd-d886f125b864"
      },
      "outputs": [
        {
          "data": {
            "text/plain": [
              "50   TCP  A    WannaCry  1  1DA11mPS  1BonuSr7  1.1  500   5     A.1  Bonet          5061  SS\n",
              "-10  TCP  APS  APT       9  1GZkujBR  18e372GN  4    1     32    B    Port Scanning  5066  A     1\n",
              " 25  UDP  ASF  APT       1  17dcMo4V  1DiCeTjB  3    768   1548  A    DoS            5062  SS    1\n",
              "                            1GZkujBR  1DiCeTjB  3    597   921   A    SSH            5061  SS    1\n",
              "                                                           5464  A    DoS            5061  SS    1\n",
              "                                                     768   1548  A    DoS            5062  SS    1\n",
              "                                                                                                ..\n",
              " 11  UDP  AF   Flyper    2  1GZkujBR  18e372GN  2    2586  84    A    Port Scanning  5068  A     1\n",
              "                                                           2836  A    UDP Scan       5068  A     1\n",
              "                                                28   2124  18    A    Port Scanning  5066  A     1\n",
              "                                                           2572  A    UDP Scan       5066  A     1\n",
              " 96  TCP  R    Flyper    1  1GZkujBR  1SYSTEMQ  9    561   1129  C    Blacklist      5061  S     1\n",
              "Length: 149042, dtype: int64"
            ]
          },
          "execution_count": 8,
          "metadata": {},
          "output_type": "execute_result"
        }
      ],
      "source": [
        "df.value_counts()"
      ]
    },
    {
      "cell_type": "code",
      "execution_count": null,
      "id": "57bbbaa0",
      "metadata": {
        "id": "57bbbaa0",
        "outputId": "f27f86d7-ea4a-402e-b19d-484b18e9a0a0"
      },
      "outputs": [
        {
          "data": {
            "text/plain": [
              "(149042, 14)"
            ]
          },
          "execution_count": 9,
          "metadata": {},
          "output_type": "execute_result"
        }
      ],
      "source": [
        "df.shape"
      ]
    },
    {
      "cell_type": "code",
      "execution_count": null,
      "id": "f05cbef4",
      "metadata": {
        "id": "f05cbef4",
        "outputId": "92464926-407f-4e88-b6ce-b7e5d0016451"
      },
      "outputs": [
        {
          "name": "stdout",
          "output_type": "stream",
          "text": [
            "<class 'pandas.core.frame.DataFrame'>\n",
            "Int64Index: 149042 entries, 0 to 206825\n",
            "Data columns (total 14 columns):\n",
            " #   Column    Non-Null Count   Dtype \n",
            "---  ------    --------------   ----- \n",
            " 0   50        149042 non-null  int64 \n",
            " 1   TCP       149042 non-null  object\n",
            " 2   A         149042 non-null  object\n",
            " 3   WannaCry  149042 non-null  object\n",
            " 4   1         149042 non-null  int64 \n",
            " 5   1DA11mPS  149042 non-null  object\n",
            " 6   1BonuSr7  149042 non-null  object\n",
            " 7   1.1       149042 non-null  int64 \n",
            " 8   500       149042 non-null  int64 \n",
            " 9   5         149042 non-null  int64 \n",
            " 10  A.1       149042 non-null  object\n",
            " 11  Bonet     149042 non-null  object\n",
            " 12  5061      149042 non-null  int64 \n",
            " 13  SS        149042 non-null  object\n",
            "dtypes: int64(6), object(8)\n",
            "memory usage: 17.1+ MB\n"
          ]
        }
      ],
      "source": [
        "df.info()"
      ]
    },
    {
      "cell_type": "code",
      "execution_count": null,
      "id": "26e72ed5",
      "metadata": {
        "id": "26e72ed5"
      },
      "outputs": [],
      "source": [
        "df.columns = [\"Time\", \"Protocol\", \"Flag\", \"Family\", \"Cluster\", \"SeedAddress\", \"ExpAddress\", \"BTC\", \"USD\", \"Netflow_Bytes\", \"IPaddress\", \"Threats\", \"Port\", \"Prediction\"]"
      ]
    },
    {
      "cell_type": "code",
      "execution_count": null,
      "id": "bb035442",
      "metadata": {
        "id": "bb035442",
        "outputId": "1de8f12c-cf59-4d9e-e051-e9acfb632b0d"
      },
      "outputs": [
        {
          "data": {
            "text/html": [
              "<div>\n",
              "<style scoped>\n",
              "    .dataframe tbody tr th:only-of-type {\n",
              "        vertical-align: middle;\n",
              "    }\n",
              "\n",
              "    .dataframe tbody tr th {\n",
              "        vertical-align: top;\n",
              "    }\n",
              "\n",
              "    .dataframe thead th {\n",
              "        text-align: right;\n",
              "    }\n",
              "</style>\n",
              "<table border=\"1\" class=\"dataframe\">\n",
              "  <thead>\n",
              "    <tr style=\"text-align: right;\">\n",
              "      <th></th>\n",
              "      <th>Time</th>\n",
              "      <th>Protocol</th>\n",
              "      <th>Flag</th>\n",
              "      <th>Family</th>\n",
              "      <th>Cluster</th>\n",
              "      <th>SeedAddress</th>\n",
              "      <th>ExpAddress</th>\n",
              "      <th>BTC</th>\n",
              "      <th>USD</th>\n",
              "      <th>Netflow_Bytes</th>\n",
              "      <th>IPaddress</th>\n",
              "      <th>Threats</th>\n",
              "      <th>Port</th>\n",
              "      <th>Prediction</th>\n",
              "    </tr>\n",
              "  </thead>\n",
              "  <tbody>\n",
              "    <tr>\n",
              "      <th>0</th>\n",
              "      <td>40</td>\n",
              "      <td>TCP</td>\n",
              "      <td>A</td>\n",
              "      <td>WannaCry</td>\n",
              "      <td>1</td>\n",
              "      <td>1DA11mPS</td>\n",
              "      <td>1BonuSr7</td>\n",
              "      <td>1</td>\n",
              "      <td>504</td>\n",
              "      <td>8</td>\n",
              "      <td>A</td>\n",
              "      <td>Bonet</td>\n",
              "      <td>5061</td>\n",
              "      <td>SS</td>\n",
              "    </tr>\n",
              "    <tr>\n",
              "      <th>1</th>\n",
              "      <td>30</td>\n",
              "      <td>TCP</td>\n",
              "      <td>A</td>\n",
              "      <td>WannaCry</td>\n",
              "      <td>1</td>\n",
              "      <td>1DA11mPS</td>\n",
              "      <td>1BonuSr7</td>\n",
              "      <td>1</td>\n",
              "      <td>508</td>\n",
              "      <td>7</td>\n",
              "      <td>A</td>\n",
              "      <td>Bonet</td>\n",
              "      <td>5061</td>\n",
              "      <td>SS</td>\n",
              "    </tr>\n",
              "    <tr>\n",
              "      <th>2</th>\n",
              "      <td>20</td>\n",
              "      <td>TCP</td>\n",
              "      <td>A</td>\n",
              "      <td>WannaCry</td>\n",
              "      <td>1</td>\n",
              "      <td>1DA11mPS</td>\n",
              "      <td>1BonuSr7</td>\n",
              "      <td>1</td>\n",
              "      <td>512</td>\n",
              "      <td>15</td>\n",
              "      <td>A</td>\n",
              "      <td>Bonet</td>\n",
              "      <td>5061</td>\n",
              "      <td>SS</td>\n",
              "    </tr>\n",
              "    <tr>\n",
              "      <th>3</th>\n",
              "      <td>57</td>\n",
              "      <td>TCP</td>\n",
              "      <td>A</td>\n",
              "      <td>WannaCry</td>\n",
              "      <td>1</td>\n",
              "      <td>1DA11mPS</td>\n",
              "      <td>1BonuSr7</td>\n",
              "      <td>1</td>\n",
              "      <td>516</td>\n",
              "      <td>9</td>\n",
              "      <td>A</td>\n",
              "      <td>Bonet</td>\n",
              "      <td>5061</td>\n",
              "      <td>SS</td>\n",
              "    </tr>\n",
              "    <tr>\n",
              "      <th>4</th>\n",
              "      <td>41</td>\n",
              "      <td>TCP</td>\n",
              "      <td>A</td>\n",
              "      <td>WannaCry</td>\n",
              "      <td>1</td>\n",
              "      <td>1DA11mPS</td>\n",
              "      <td>1BonuSr7</td>\n",
              "      <td>1</td>\n",
              "      <td>520</td>\n",
              "      <td>17</td>\n",
              "      <td>A</td>\n",
              "      <td>Bonet</td>\n",
              "      <td>5061</td>\n",
              "      <td>SS</td>\n",
              "    </tr>\n",
              "    <tr>\n",
              "      <th>...</th>\n",
              "      <td>...</td>\n",
              "      <td>...</td>\n",
              "      <td>...</td>\n",
              "      <td>...</td>\n",
              "      <td>...</td>\n",
              "      <td>...</td>\n",
              "      <td>...</td>\n",
              "      <td>...</td>\n",
              "      <td>...</td>\n",
              "      <td>...</td>\n",
              "      <td>...</td>\n",
              "      <td>...</td>\n",
              "      <td>...</td>\n",
              "      <td>...</td>\n",
              "    </tr>\n",
              "    <tr>\n",
              "      <th>206821</th>\n",
              "      <td>33</td>\n",
              "      <td>UDP</td>\n",
              "      <td>AP</td>\n",
              "      <td>TowerWeb</td>\n",
              "      <td>3</td>\n",
              "      <td>1AEoiHYZ</td>\n",
              "      <td>1SYSTEMQ</td>\n",
              "      <td>1010</td>\n",
              "      <td>1590</td>\n",
              "      <td>3340</td>\n",
              "      <td>A</td>\n",
              "      <td>Scan</td>\n",
              "      <td>5062</td>\n",
              "      <td>A</td>\n",
              "    </tr>\n",
              "    <tr>\n",
              "      <th>206822</th>\n",
              "      <td>33</td>\n",
              "      <td>UDP</td>\n",
              "      <td>AP</td>\n",
              "      <td>TowerWeb</td>\n",
              "      <td>3</td>\n",
              "      <td>1AEoiHYZ</td>\n",
              "      <td>1SYSTEMQ</td>\n",
              "      <td>1014</td>\n",
              "      <td>1596</td>\n",
              "      <td>3351</td>\n",
              "      <td>A</td>\n",
              "      <td>Scan</td>\n",
              "      <td>5062</td>\n",
              "      <td>A</td>\n",
              "    </tr>\n",
              "    <tr>\n",
              "      <th>206823</th>\n",
              "      <td>33</td>\n",
              "      <td>UDP</td>\n",
              "      <td>AP</td>\n",
              "      <td>TowerWeb</td>\n",
              "      <td>3</td>\n",
              "      <td>1AEoiHYZ</td>\n",
              "      <td>1SYSTEMQ</td>\n",
              "      <td>1018</td>\n",
              "      <td>1602</td>\n",
              "      <td>3362</td>\n",
              "      <td>A</td>\n",
              "      <td>Scan</td>\n",
              "      <td>5062</td>\n",
              "      <td>A</td>\n",
              "    </tr>\n",
              "    <tr>\n",
              "      <th>206824</th>\n",
              "      <td>33</td>\n",
              "      <td>UDP</td>\n",
              "      <td>AP</td>\n",
              "      <td>TowerWeb</td>\n",
              "      <td>3</td>\n",
              "      <td>1AEoiHYZ</td>\n",
              "      <td>1SYSTEMQ</td>\n",
              "      <td>1022</td>\n",
              "      <td>1608</td>\n",
              "      <td>3373</td>\n",
              "      <td>A</td>\n",
              "      <td>Scan</td>\n",
              "      <td>5062</td>\n",
              "      <td>A</td>\n",
              "    </tr>\n",
              "    <tr>\n",
              "      <th>206825</th>\n",
              "      <td>33</td>\n",
              "      <td>UDP</td>\n",
              "      <td>AP</td>\n",
              "      <td>TowerWeb</td>\n",
              "      <td>3</td>\n",
              "      <td>1AEoiHYZ</td>\n",
              "      <td>1SYSTEMQ</td>\n",
              "      <td>1026</td>\n",
              "      <td>1614</td>\n",
              "      <td>3384</td>\n",
              "      <td>A</td>\n",
              "      <td>Scan</td>\n",
              "      <td>5062</td>\n",
              "      <td>A</td>\n",
              "    </tr>\n",
              "  </tbody>\n",
              "</table>\n",
              "<p>149042 rows × 14 columns</p>\n",
              "</div>"
            ],
            "text/plain": [
              "        Time Protocol Flag    Family  Cluster SeedAddress ExpAddress   BTC  \\\n",
              "0         40      TCP    A  WannaCry        1    1DA11mPS   1BonuSr7     1   \n",
              "1         30      TCP    A  WannaCry        1    1DA11mPS   1BonuSr7     1   \n",
              "2         20      TCP    A  WannaCry        1    1DA11mPS   1BonuSr7     1   \n",
              "3         57      TCP    A  WannaCry        1    1DA11mPS   1BonuSr7     1   \n",
              "4         41      TCP    A  WannaCry        1    1DA11mPS   1BonuSr7     1   \n",
              "...      ...      ...  ...       ...      ...         ...        ...   ...   \n",
              "206821    33      UDP   AP  TowerWeb        3    1AEoiHYZ   1SYSTEMQ  1010   \n",
              "206822    33      UDP   AP  TowerWeb        3    1AEoiHYZ   1SYSTEMQ  1014   \n",
              "206823    33      UDP   AP  TowerWeb        3    1AEoiHYZ   1SYSTEMQ  1018   \n",
              "206824    33      UDP   AP  TowerWeb        3    1AEoiHYZ   1SYSTEMQ  1022   \n",
              "206825    33      UDP   AP  TowerWeb        3    1AEoiHYZ   1SYSTEMQ  1026   \n",
              "\n",
              "         USD  Netflow_Bytes IPaddress Threats  Port Prediction  \n",
              "0        504              8         A   Bonet  5061         SS  \n",
              "1        508              7         A   Bonet  5061         SS  \n",
              "2        512             15         A   Bonet  5061         SS  \n",
              "3        516              9         A   Bonet  5061         SS  \n",
              "4        520             17         A   Bonet  5061         SS  \n",
              "...      ...            ...       ...     ...   ...        ...  \n",
              "206821  1590           3340         A    Scan  5062          A  \n",
              "206822  1596           3351         A    Scan  5062          A  \n",
              "206823  1602           3362         A    Scan  5062          A  \n",
              "206824  1608           3373         A    Scan  5062          A  \n",
              "206825  1614           3384         A    Scan  5062          A  \n",
              "\n",
              "[149042 rows x 14 columns]"
            ]
          },
          "execution_count": 12,
          "metadata": {},
          "output_type": "execute_result"
        }
      ],
      "source": [
        "df"
      ]
    },
    {
      "cell_type": "code",
      "execution_count": null,
      "id": "9a6d7b8a",
      "metadata": {
        "id": "9a6d7b8a",
        "outputId": "12c0ff51-7861-4703-9dbd-a5292135d3ad"
      },
      "outputs": [
        {
          "data": {
            "text/html": [
              "<div>\n",
              "<style scoped>\n",
              "    .dataframe tbody tr th:only-of-type {\n",
              "        vertical-align: middle;\n",
              "    }\n",
              "\n",
              "    .dataframe tbody tr th {\n",
              "        vertical-align: top;\n",
              "    }\n",
              "\n",
              "    .dataframe thead th {\n",
              "        text-align: right;\n",
              "    }\n",
              "</style>\n",
              "<table border=\"1\" class=\"dataframe\">\n",
              "  <thead>\n",
              "    <tr style=\"text-align: right;\">\n",
              "      <th></th>\n",
              "      <th>Time</th>\n",
              "      <th>Cluster</th>\n",
              "      <th>BTC</th>\n",
              "      <th>USD</th>\n",
              "      <th>Netflow_Bytes</th>\n",
              "      <th>Port</th>\n",
              "    </tr>\n",
              "  </thead>\n",
              "  <tbody>\n",
              "    <tr>\n",
              "      <th>count</th>\n",
              "      <td>149042.000000</td>\n",
              "      <td>149042.000000</td>\n",
              "      <td>149042.000000</td>\n",
              "      <td>149042.000000</td>\n",
              "      <td>149042.000000</td>\n",
              "      <td>149042.000000</td>\n",
              "    </tr>\n",
              "    <tr>\n",
              "      <th>mean</th>\n",
              "      <td>21.466788</td>\n",
              "      <td>2.349304</td>\n",
              "      <td>30.554803</td>\n",
              "      <td>14863.537486</td>\n",
              "      <td>2021.292179</td>\n",
              "      <td>5063.949987</td>\n",
              "    </tr>\n",
              "    <tr>\n",
              "      <th>std</th>\n",
              "      <td>15.883480</td>\n",
              "      <td>2.828766</td>\n",
              "      <td>101.447413</td>\n",
              "      <td>26849.498955</td>\n",
              "      <td>2271.422603</td>\n",
              "      <td>2.696009</td>\n",
              "    </tr>\n",
              "    <tr>\n",
              "      <th>min</th>\n",
              "      <td>-10.000000</td>\n",
              "      <td>1.000000</td>\n",
              "      <td>1.000000</td>\n",
              "      <td>1.000000</td>\n",
              "      <td>1.000000</td>\n",
              "      <td>5061.000000</td>\n",
              "    </tr>\n",
              "    <tr>\n",
              "      <th>25%</th>\n",
              "      <td>8.000000</td>\n",
              "      <td>1.000000</td>\n",
              "      <td>8.000000</td>\n",
              "      <td>512.000000</td>\n",
              "      <td>353.000000</td>\n",
              "      <td>5062.000000</td>\n",
              "    </tr>\n",
              "    <tr>\n",
              "      <th>50%</th>\n",
              "      <td>19.000000</td>\n",
              "      <td>1.000000</td>\n",
              "      <td>13.000000</td>\n",
              "      <td>4321.000000</td>\n",
              "      <td>1031.000000</td>\n",
              "      <td>5062.000000</td>\n",
              "    </tr>\n",
              "    <tr>\n",
              "      <th>75%</th>\n",
              "      <td>32.000000</td>\n",
              "      <td>2.000000</td>\n",
              "      <td>22.000000</td>\n",
              "      <td>18454.000000</td>\n",
              "      <td>3188.000000</td>\n",
              "      <td>5066.000000</td>\n",
              "    </tr>\n",
              "    <tr>\n",
              "      <th>max</th>\n",
              "      <td>96.000000</td>\n",
              "      <td>12.000000</td>\n",
              "      <td>1980.000000</td>\n",
              "      <td>126379.000000</td>\n",
              "      <td>12360.000000</td>\n",
              "      <td>5068.000000</td>\n",
              "    </tr>\n",
              "  </tbody>\n",
              "</table>\n",
              "</div>"
            ],
            "text/plain": [
              "                Time        Cluster            BTC            USD  \\\n",
              "count  149042.000000  149042.000000  149042.000000  149042.000000   \n",
              "mean       21.466788       2.349304      30.554803   14863.537486   \n",
              "std        15.883480       2.828766     101.447413   26849.498955   \n",
              "min       -10.000000       1.000000       1.000000       1.000000   \n",
              "25%         8.000000       1.000000       8.000000     512.000000   \n",
              "50%        19.000000       1.000000      13.000000    4321.000000   \n",
              "75%        32.000000       2.000000      22.000000   18454.000000   \n",
              "max        96.000000      12.000000    1980.000000  126379.000000   \n",
              "\n",
              "       Netflow_Bytes           Port  \n",
              "count  149042.000000  149042.000000  \n",
              "mean     2021.292179    5063.949987  \n",
              "std      2271.422603       2.696009  \n",
              "min         1.000000    5061.000000  \n",
              "25%       353.000000    5062.000000  \n",
              "50%      1031.000000    5062.000000  \n",
              "75%      3188.000000    5066.000000  \n",
              "max     12360.000000    5068.000000  "
            ]
          },
          "execution_count": 13,
          "metadata": {},
          "output_type": "execute_result"
        }
      ],
      "source": [
        "#Statistical summary\n",
        "df.describe()"
      ]
    },
    {
      "cell_type": "code",
      "execution_count": null,
      "id": "8ca8095f",
      "metadata": {
        "id": "8ca8095f",
        "outputId": "148a735a-f48c-4988-abc0-3454087ffcfa"
      },
      "outputs": [
        {
          "data": {
            "text/plain": [
              "20    11393\n",
              "1      6845\n",
              "7      6359\n",
              "10     5193\n",
              "4      4848\n",
              "      ...  \n",
              "84        1\n",
              "87        1\n",
              "90        1\n",
              "93        1\n",
              "96        1\n",
              "Name: Time, Length: 87, dtype: int64"
            ]
          },
          "execution_count": 14,
          "metadata": {},
          "output_type": "execute_result"
        }
      ],
      "source": [
        "df['Time'].value_counts()"
      ]
    },
    {
      "cell_type": "code",
      "execution_count": null,
      "id": "643a9cf9",
      "metadata": {
        "id": "643a9cf9",
        "outputId": "99d55e72-4bb2-4fe0-b27b-f2830c8309c6"
      },
      "outputs": [
        {
          "data": {
            "text/plain": [
              "TCP     68114\n",
              "UDP     43394\n",
              "ICMP    37534\n",
              "Name: Protocol, dtype: int64"
            ]
          },
          "execution_count": 15,
          "metadata": {},
          "output_type": "execute_result"
        }
      ],
      "source": [
        "df['Protocol'].value_counts()"
      ]
    },
    {
      "cell_type": "code",
      "execution_count": null,
      "id": "1fcc3e91",
      "metadata": {
        "id": "1fcc3e91",
        "outputId": "d91085e6-256c-46f3-9328-a7d2615ea4e8"
      },
      "outputs": [
        {
          "data": {
            "text/plain": [
              "AF       53942\n",
              "APS      25177\n",
              "R        17549\n",
              "APSF     16047\n",
              "ARF      11685\n",
              "AP        9883\n",
              "ASF       7836\n",
              "APRSF     5286\n",
              "A         1637\n",
              "Name: Flag, dtype: int64"
            ]
          },
          "execution_count": 16,
          "metadata": {},
          "output_type": "execute_result"
        }
      ],
      "source": [
        "df['Flag'].value_counts()"
      ]
    },
    {
      "cell_type": "code",
      "execution_count": null,
      "id": "88dc82e3",
      "metadata": {
        "id": "88dc82e3",
        "outputId": "078b0989-ec33-4846-9e0a-e9cd3171fc35"
      },
      "outputs": [
        {
          "data": {
            "text/plain": [
              "Locky               25062\n",
              "SamSam              19657\n",
              "WannaCry            16109\n",
              "JigSaw              13712\n",
              "Flyper              12014\n",
              "DMALocker           11360\n",
              "APT                  9730\n",
              "CryptXXX             9335\n",
              "Razy                 7862\n",
              "Globe                7373\n",
              "EDA2                 6054\n",
              "TowerWeb             4381\n",
              "Cryptohitman         4134\n",
              "NoobCrypt            1248\n",
              "CryptoLocker          788\n",
              "CryptoLocker2015      150\n",
              "Globev3                73\n",
              "Name: Family, dtype: int64"
            ]
          },
          "execution_count": 17,
          "metadata": {},
          "output_type": "execute_result"
        }
      ],
      "source": [
        "df['Family'].value_counts()"
      ]
    },
    {
      "cell_type": "code",
      "execution_count": null,
      "id": "e7db3730",
      "metadata": {
        "id": "e7db3730",
        "outputId": "1ccc34ef-2c4c-41f3-a128-f158b2b9c05d"
      },
      "outputs": [
        {
          "data": {
            "text/plain": [
              "1     96823\n",
              "2     25033\n",
              "3      9234\n",
              "9      9125\n",
              "11     6591\n",
              "10     1565\n",
              "8       476\n",
              "7       174\n",
              "12       21\n",
              "Name: Cluster, dtype: int64"
            ]
          },
          "execution_count": 18,
          "metadata": {},
          "output_type": "execute_result"
        }
      ],
      "source": [
        "df['Cluster'].value_counts()"
      ]
    },
    {
      "cell_type": "code",
      "execution_count": null,
      "id": "bbf29232",
      "metadata": {
        "id": "bbf29232",
        "outputId": "ff4b387f-9ac6-4741-804c-7d5857263432"
      },
      "outputs": [
        {
          "data": {
            "text/plain": [
              "1DA11mPS    58452\n",
              "17dcMo4V    40201\n",
              "1GZkujBR    31569\n",
              "1NKi9AK5    14763\n",
              "1AEoiHYZ     3096\n",
              "1KZKcvx4      961\n",
              "Name: SeedAddress, dtype: int64"
            ]
          },
          "execution_count": 19,
          "metadata": {},
          "output_type": "execute_result"
        }
      ],
      "source": [
        "df['SeedAddress'].value_counts()"
      ]
    },
    {
      "cell_type": "code",
      "execution_count": null,
      "id": "093dbab5",
      "metadata": {
        "id": "093dbab5",
        "outputId": "f065cbf1-f137-4cc8-aaa4-753e8c8710c1"
      },
      "outputs": [
        {
          "data": {
            "text/plain": [
              "1DiCeTjB    56311\n",
              "1SYSTEMQ    36656\n",
              "18e372GN    29460\n",
              "1BonuSr7    15121\n",
              "1CLag5cd     8641\n",
              "1Lc7xTpP     2780\n",
              "1              73\n",
              "Name: ExpAddress, dtype: int64"
            ]
          },
          "execution_count": 20,
          "metadata": {},
          "output_type": "execute_result"
        }
      ],
      "source": [
        "df['ExpAddress'].value_counts()"
      ]
    },
    {
      "cell_type": "code",
      "execution_count": null,
      "id": "e1ecf43a",
      "metadata": {
        "id": "e1ecf43a",
        "outputId": "09605189-ac56-4e15-f64c-955832a3619c"
      },
      "outputs": [
        {
          "data": {
            "text/plain": [
              "30      19520\n",
              "11      18346\n",
              "2       12340\n",
              "9       11970\n",
              "22      10742\n",
              "        ...  \n",
              "1890        1\n",
              "1894        1\n",
              "1898        1\n",
              "1902        1\n",
              "1980        1\n",
              "Name: BTC, Length: 1087, dtype: int64"
            ]
          },
          "execution_count": 21,
          "metadata": {},
          "output_type": "execute_result"
        }
      ],
      "source": [
        "df['BTC'].value_counts()"
      ]
    },
    {
      "cell_type": "code",
      "execution_count": null,
      "id": "c8b22c37",
      "metadata": {
        "id": "c8b22c37",
        "outputId": "9b06e0d6-03b5-4652-fd57-11d4d2e988eb"
      },
      "outputs": [
        {
          "data": {
            "text/plain": [
              "1        16392\n",
              "21345    15576\n",
              "18454    10591\n",
              "4321      1971\n",
              "50991     1087\n",
              "         ...  \n",
              "2484         1\n",
              "2478         1\n",
              "2472         1\n",
              "2466         1\n",
              "3240         1\n",
              "Name: USD, Length: 5267, dtype: int64"
            ]
          },
          "execution_count": 22,
          "metadata": {},
          "output_type": "execute_result"
        }
      ],
      "source": [
        "df['USD'].value_counts()"
      ]
    },
    {
      "cell_type": "code",
      "execution_count": null,
      "id": "efde3f1e",
      "metadata": {
        "id": "efde3f1e",
        "outputId": "ad0a8dc1-4b72-4a8d-fdcf-8a63fb58531c"
      },
      "outputs": [
        {
          "data": {
            "text/plain": [
              "98      320\n",
              "56      268\n",
              "86      249\n",
              "26      247\n",
              "74      246\n",
              "       ... \n",
              "3593      1\n",
              "3637      1\n",
              "3659      1\n",
              "3670      1\n",
              "6953      1\n",
              "Name: Netflow_Bytes, Length: 5818, dtype: int64"
            ]
          },
          "execution_count": 23,
          "metadata": {},
          "output_type": "execute_result"
        }
      ],
      "source": [
        "df['Netflow_Bytes'].value_counts()"
      ]
    },
    {
      "cell_type": "code",
      "execution_count": null,
      "id": "00634ea1",
      "metadata": {
        "id": "00634ea1",
        "outputId": "0b8d3938-909c-41a4-fb14-cfc14072d32a"
      },
      "outputs": [
        {
          "data": {
            "text/plain": [
              "C    67699\n",
              "A    48788\n",
              "B    29650\n",
              "D     2905\n",
              "Name: IPaddress, dtype: int64"
            ]
          },
          "execution_count": 24,
          "metadata": {},
          "output_type": "execute_result"
        }
      ],
      "source": [
        "df['IPaddress'].value_counts()"
      ]
    },
    {
      "cell_type": "code",
      "execution_count": null,
      "id": "79c6848d",
      "metadata": {
        "id": "79c6848d",
        "outputId": "a820166f-6bad-47b3-9484-1bd81b498ed9"
      },
      "outputs": [
        {
          "data": {
            "text/plain": [
              "SSH              24726\n",
              "Spam             23207\n",
              "UDP Scan         20781\n",
              "Bonet            16522\n",
              "Blacklist        16356\n",
              "Port Scanning    15910\n",
              "DoS              12731\n",
              "Scan             12568\n",
              "NerisBonet        6241\n",
              "Name: Threats, dtype: int64"
            ]
          },
          "execution_count": 25,
          "metadata": {},
          "output_type": "execute_result"
        }
      ],
      "source": [
        "df['Threats'].value_counts()"
      ]
    },
    {
      "cell_type": "code",
      "execution_count": null,
      "id": "30b87894",
      "metadata": {
        "id": "30b87894",
        "outputId": "21fe94e7-e7db-45f2-d2a6-aa76ac0e27db"
      },
      "outputs": [
        {
          "data": {
            "text/plain": [
              "5066    43783\n",
              "5062    43258\n",
              "5061    36644\n",
              "5068    25357\n",
              "Name: Port, dtype: int64"
            ]
          },
          "execution_count": 26,
          "metadata": {},
          "output_type": "execute_result"
        }
      ],
      "source": [
        "df['Port'].value_counts()"
      ]
    },
    {
      "cell_type": "code",
      "execution_count": null,
      "id": "a9c4e77b",
      "metadata": {
        "id": "a9c4e77b",
        "outputId": "3b4f9c20-e4d4-4a26-907a-5b627260ba64"
      },
      "outputs": [
        {
          "data": {
            "text/plain": [
              "S     66380\n",
              "A     42561\n",
              "SS    40101\n",
              "Name: Prediction, dtype: int64"
            ]
          },
          "execution_count": 27,
          "metadata": {},
          "output_type": "execute_result"
        }
      ],
      "source": [
        "df['Prediction'].value_counts()"
      ]
    },
    {
      "cell_type": "code",
      "execution_count": null,
      "id": "f856d893",
      "metadata": {
        "id": "f856d893",
        "outputId": "7b29a5bb-5f95-44d2-fc17-25bcdde3179c"
      },
      "outputs": [
        {
          "data": {
            "image/png": "[encoded data removed]",
            "text/plain": [
              "<Figure size 1000x600 with 1 Axes>"
            ]
          },
          "metadata": {},
          "output_type": "display_data"
        }
      ],
      "source": [
        "# Define a custom color for the means points (lighter blue)\n",
        "mean_color = 'lightblue'\n",
        "\n",
        "# Create a box plot with means shown in the custom color\n",
        "plt.figure(figsize=(10, 6))\n",
        "sns.boxplot(x='Time', data=df, color='blue', showmeans=True, meanprops={\"marker\":\"o\", \"markerfacecolor\": mean_color})  # Set showmeans=True and customize meanprops\n",
        "plt.title('Box Plot indicating Time Statistics')\n",
        "plt.xlabel('Time (seconds)')\n",
        "plt.show()"
      ]
    },
    {
      "cell_type": "code",
      "execution_count": null,
      "id": "ac897298",
      "metadata": {
        "id": "ac897298",
        "outputId": "636b41ba-8867-4347-a544-1080f470f19d"
      },
      "outputs": [
        {
          "data": {
            "image/png": "[encoded data removed]",
            "text/plain": [
              "<Figure size 1000x600 with 1 Axes>"
            ]
          },
          "metadata": {},
          "output_type": "display_data"
        }
      ],
      "source": [
        "# Define a custom color for the means points (lighter blue)\n",
        "mean_color = 'lightpink'\n",
        "\n",
        "# Create a box plot with means shown in the custom color for the 'USD' column\n",
        "plt.figure(figsize=(10, 6))\n",
        "sns.boxplot(x='USD', data=df, color='purple', showmeans=True, meanprops={\"marker\":\"o\", \"markerfacecolor\": mean_color})  # Set showmeans=True and customize meanprops\n",
        "plt.title('Box Plot indicating USD Statistics')\n",
        "plt.xlabel('USD')\n",
        "plt.show()\n"
      ]
    },
    {
      "cell_type": "code",
      "execution_count": null,
      "id": "e48763d0",
      "metadata": {
        "id": "e48763d0",
        "outputId": "cde3a622-cc0f-43cc-d223-74b17913b188"
      },
      "outputs": [
        {
          "data": {
            "text/html": [
              "<div>\n",
              "<style scoped>\n",
              "    .dataframe tbody tr th:only-of-type {\n",
              "        vertical-align: middle;\n",
              "    }\n",
              "\n",
              "    .dataframe tbody tr th {\n",
              "        vertical-align: top;\n",
              "    }\n",
              "\n",
              "    .dataframe thead th {\n",
              "        text-align: right;\n",
              "    }\n",
              "</style>\n",
              "<table border=\"1\" class=\"dataframe\">\n",
              "  <thead>\n",
              "    <tr style=\"text-align: right;\">\n",
              "      <th></th>\n",
              "      <th>Time</th>\n",
              "      <th>Protocol</th>\n",
              "      <th>Flag</th>\n",
              "      <th>Family</th>\n",
              "      <th>Cluster</th>\n",
              "      <th>SeedAddress</th>\n",
              "      <th>ExpAddress</th>\n",
              "      <th>BTC</th>\n",
              "      <th>USD</th>\n",
              "      <th>Netflow_Bytes</th>\n",
              "      <th>IPaddress</th>\n",
              "      <th>Threats</th>\n",
              "      <th>Port</th>\n",
              "      <th>Prediction</th>\n",
              "    </tr>\n",
              "  </thead>\n",
              "  <tbody>\n",
              "    <tr>\n",
              "      <th>0</th>\n",
              "      <td>40</td>\n",
              "      <td>TCP</td>\n",
              "      <td>A</td>\n",
              "      <td>WannaCry</td>\n",
              "      <td>1</td>\n",
              "      <td>1DA11mPS</td>\n",
              "      <td>1BonuSr7</td>\n",
              "      <td>1</td>\n",
              "      <td>504</td>\n",
              "      <td>8</td>\n",
              "      <td>A</td>\n",
              "      <td>Bonet</td>\n",
              "      <td>5061</td>\n",
              "      <td>SS</td>\n",
              "    </tr>\n",
              "    <tr>\n",
              "      <th>1</th>\n",
              "      <td>30</td>\n",
              "      <td>TCP</td>\n",
              "      <td>A</td>\n",
              "      <td>WannaCry</td>\n",
              "      <td>1</td>\n",
              "      <td>1DA11mPS</td>\n",
              "      <td>1BonuSr7</td>\n",
              "      <td>1</td>\n",
              "      <td>508</td>\n",
              "      <td>7</td>\n",
              "      <td>A</td>\n",
              "      <td>Bonet</td>\n",
              "      <td>5061</td>\n",
              "      <td>SS</td>\n",
              "    </tr>\n",
              "    <tr>\n",
              "      <th>2</th>\n",
              "      <td>20</td>\n",
              "      <td>TCP</td>\n",
              "      <td>A</td>\n",
              "      <td>WannaCry</td>\n",
              "      <td>1</td>\n",
              "      <td>1DA11mPS</td>\n",
              "      <td>1BonuSr7</td>\n",
              "      <td>1</td>\n",
              "      <td>512</td>\n",
              "      <td>15</td>\n",
              "      <td>A</td>\n",
              "      <td>Bonet</td>\n",
              "      <td>5061</td>\n",
              "      <td>SS</td>\n",
              "    </tr>\n",
              "    <tr>\n",
              "      <th>3</th>\n",
              "      <td>57</td>\n",
              "      <td>TCP</td>\n",
              "      <td>A</td>\n",
              "      <td>WannaCry</td>\n",
              "      <td>1</td>\n",
              "      <td>1DA11mPS</td>\n",
              "      <td>1BonuSr7</td>\n",
              "      <td>1</td>\n",
              "      <td>516</td>\n",
              "      <td>9</td>\n",
              "      <td>A</td>\n",
              "      <td>Bonet</td>\n",
              "      <td>5061</td>\n",
              "      <td>SS</td>\n",
              "    </tr>\n",
              "    <tr>\n",
              "      <th>4</th>\n",
              "      <td>41</td>\n",
              "      <td>TCP</td>\n",
              "      <td>A</td>\n",
              "      <td>WannaCry</td>\n",
              "      <td>1</td>\n",
              "      <td>1DA11mPS</td>\n",
              "      <td>1BonuSr7</td>\n",
              "      <td>1</td>\n",
              "      <td>520</td>\n",
              "      <td>17</td>\n",
              "      <td>A</td>\n",
              "      <td>Bonet</td>\n",
              "      <td>5061</td>\n",
              "      <td>SS</td>\n",
              "    </tr>\n",
              "    <tr>\n",
              "      <th>...</th>\n",
              "      <td>...</td>\n",
              "      <td>...</td>\n",
              "      <td>...</td>\n",
              "      <td>...</td>\n",
              "      <td>...</td>\n",
              "      <td>...</td>\n",
              "      <td>...</td>\n",
              "      <td>...</td>\n",
              "      <td>...</td>\n",
              "      <td>...</td>\n",
              "      <td>...</td>\n",
              "      <td>...</td>\n",
              "      <td>...</td>\n",
              "      <td>...</td>\n",
              "    </tr>\n",
              "    <tr>\n",
              "      <th>206821</th>\n",
              "      <td>33</td>\n",
              "      <td>UDP</td>\n",
              "      <td>AP</td>\n",
              "      <td>TowerWeb</td>\n",
              "      <td>3</td>\n",
              "      <td>1AEoiHYZ</td>\n",
              "      <td>1SYSTEMQ</td>\n",
              "      <td>1010</td>\n",
              "      <td>1590</td>\n",
              "      <td>3340</td>\n",
              "      <td>A</td>\n",
              "      <td>Scan</td>\n",
              "      <td>5062</td>\n",
              "      <td>A</td>\n",
              "    </tr>\n",
              "    <tr>\n",
              "      <th>206822</th>\n",
              "      <td>33</td>\n",
              "      <td>UDP</td>\n",
              "      <td>AP</td>\n",
              "      <td>TowerWeb</td>\n",
              "      <td>3</td>\n",
              "      <td>1AEoiHYZ</td>\n",
              "      <td>1SYSTEMQ</td>\n",
              "      <td>1014</td>\n",
              "      <td>1596</td>\n",
              "      <td>3351</td>\n",
              "      <td>A</td>\n",
              "      <td>Scan</td>\n",
              "      <td>5062</td>\n",
              "      <td>A</td>\n",
              "    </tr>\n",
              "    <tr>\n",
              "      <th>206823</th>\n",
              "      <td>33</td>\n",
              "      <td>UDP</td>\n",
              "      <td>AP</td>\n",
              "      <td>TowerWeb</td>\n",
              "      <td>3</td>\n",
              "      <td>1AEoiHYZ</td>\n",
              "      <td>1SYSTEMQ</td>\n",
              "      <td>1018</td>\n",
              "      <td>1602</td>\n",
              "      <td>3362</td>\n",
              "      <td>A</td>\n",
              "      <td>Scan</td>\n",
              "      <td>5062</td>\n",
              "      <td>A</td>\n",
              "    </tr>\n",
              "    <tr>\n",
              "      <th>206824</th>\n",
              "      <td>33</td>\n",
              "      <td>UDP</td>\n",
              "      <td>AP</td>\n",
              "      <td>TowerWeb</td>\n",
              "      <td>3</td>\n",
              "      <td>1AEoiHYZ</td>\n",
              "      <td>1SYSTEMQ</td>\n",
              "      <td>1022</td>\n",
              "      <td>1608</td>\n",
              "      <td>3373</td>\n",
              "      <td>A</td>\n",
              "      <td>Scan</td>\n",
              "      <td>5062</td>\n",
              "      <td>A</td>\n",
              "    </tr>\n",
              "    <tr>\n",
              "      <th>206825</th>\n",
              "      <td>33</td>\n",
              "      <td>UDP</td>\n",
              "      <td>AP</td>\n",
              "      <td>TowerWeb</td>\n",
              "      <td>3</td>\n",
              "      <td>1AEoiHYZ</td>\n",
              "      <td>1SYSTEMQ</td>\n",
              "      <td>1026</td>\n",
              "      <td>1614</td>\n",
              "      <td>3384</td>\n",
              "      <td>A</td>\n",
              "      <td>Scan</td>\n",
              "      <td>5062</td>\n",
              "      <td>A</td>\n",
              "    </tr>\n",
              "  </tbody>\n",
              "</table>\n",
              "<p>149042 rows × 14 columns</p>\n",
              "</div>"
            ],
            "text/plain": [
              "        Time Protocol Flag    Family  Cluster SeedAddress ExpAddress   BTC  \\\n",
              "0         40      TCP    A  WannaCry        1    1DA11mPS   1BonuSr7     1   \n",
              "1         30      TCP    A  WannaCry        1    1DA11mPS   1BonuSr7     1   \n",
              "2         20      TCP    A  WannaCry        1    1DA11mPS   1BonuSr7     1   \n",
              "3         57      TCP    A  WannaCry        1    1DA11mPS   1BonuSr7     1   \n",
              "4         41      TCP    A  WannaCry        1    1DA11mPS   1BonuSr7     1   \n",
              "...      ...      ...  ...       ...      ...         ...        ...   ...   \n",
              "206821    33      UDP   AP  TowerWeb        3    1AEoiHYZ   1SYSTEMQ  1010   \n",
              "206822    33      UDP   AP  TowerWeb        3    1AEoiHYZ   1SYSTEMQ  1014   \n",
              "206823    33      UDP   AP  TowerWeb        3    1AEoiHYZ   1SYSTEMQ  1018   \n",
              "206824    33      UDP   AP  TowerWeb        3    1AEoiHYZ   1SYSTEMQ  1022   \n",
              "206825    33      UDP   AP  TowerWeb        3    1AEoiHYZ   1SYSTEMQ  1026   \n",
              "\n",
              "         USD  Netflow_Bytes IPaddress Threats  Port Prediction  \n",
              "0        504              8         A   Bonet  5061         SS  \n",
              "1        508              7         A   Bonet  5061         SS  \n",
              "2        512             15         A   Bonet  5061         SS  \n",
              "3        516              9         A   Bonet  5061         SS  \n",
              "4        520             17         A   Bonet  5061         SS  \n",
              "...      ...            ...       ...     ...   ...        ...  \n",
              "206821  1590           3340         A    Scan  5062          A  \n",
              "206822  1596           3351         A    Scan  5062          A  \n",
              "206823  1602           3362         A    Scan  5062          A  \n",
              "206824  1608           3373         A    Scan  5062          A  \n",
              "206825  1614           3384         A    Scan  5062          A  \n",
              "\n",
              "[149042 rows x 14 columns]"
            ]
          },
          "execution_count": 30,
          "metadata": {},
          "output_type": "execute_result"
        }
      ],
      "source": [
        "df"
      ]
    },
    {
      "cell_type": "code",
      "execution_count": null,
      "id": "600d7505",
      "metadata": {
        "id": "600d7505",
        "outputId": "8c080a22-9381-4885-fba0-143cf56d5289"
      },
      "outputs": [
        {
          "data": {
            "image/png": "[encoded data removed]",
            "text/plain": [
              "<Figure size 800x800 with 1 Axes>"
            ]
          },
          "metadata": {},
          "output_type": "display_data"
        }
      ],
      "source": [
        "# Data\n",
        "threats = ['SSH', 'Spam', 'UDP Scan', 'Bonet', 'Blacklist', 'Port Scanning', 'DoS', 'Scan', 'NerisBonet']\n",
        "counts = [24726, 23207, 20781, 16522, 16356, 15910, 12731, 12568, 6241]\n",
        "\n",
        "# Create a pie chart\n",
        "plt.figure(figsize=(8, 8))\n",
        "plt.pie(counts, labels=threats, autopct='%1.1f%%', startangle=140)\n",
        "plt.title('Threat Distribution')\n",
        "plt.axis('equal')  # Equal aspect ratio ensures that pie is drawn as a circle.\n",
        "\n",
        "# Show the chart\n",
        "plt.show()"
      ]
    },
    {
      "cell_type": "code",
      "execution_count": null,
      "id": "76905145",
      "metadata": {
        "id": "76905145",
        "outputId": "0c0006de-ea7c-4ed9-d1f8-b9f38a52b204"
      },
      "outputs": [
        {
          "data": {
            "image/png": "[encoded data removed]",
            "text/plain": [
              "<Figure size 1200x600 with 1 Axes>"
            ]
          },
          "metadata": {},
          "output_type": "display_data"
        }
      ],
      "source": [
        "# Group by 'Family' and sum the 'USD' values for each family\n",
        "family_usd_sum = df.groupby('Family')['USD'].sum().reset_index()\n",
        "\n",
        "# Create a bar plot\n",
        "plt.figure(figsize=(12, 6))\n",
        "plt.barh(family_usd_sum['Family'], family_usd_sum['USD'])\n",
        "plt.xlabel('Total Financial Impact (USD)')\n",
        "plt.ylabel('Ransomware Family')\n",
        "plt.title('Financial Impact of each Ransomware Family')\n",
        "plt.gca().invert_yaxis()  # Invert the y-axis to display the highest impact at the top\n",
        "\n",
        "# Show the plot\n",
        "plt.show()"
      ]
    },
    {
      "cell_type": "code",
      "execution_count": null,
      "id": "74b6d099",
      "metadata": {
        "id": "74b6d099"
      },
      "outputs": [],
      "source": []
    },
    {
      "cell_type": "code",
      "execution_count": null,
      "id": "9b346ab1",
      "metadata": {
        "id": "9b346ab1"
      },
      "outputs": [],
      "source": []
    },
    {
      "cell_type": "code",
      "execution_count": null,
      "id": "df33c5c7",
      "metadata": {
        "id": "df33c5c7"
      },
      "outputs": [],
      "source": [
        "# Filter the DataFrame for only the \"Locky\" family\n",
        "locky_df = df[df['Family'] == 'Locky']\n",
        "\n",
        "# Count the occurrences of each protocol in the Locky family\n",
        "protocol_counts = locky_df['Protocol'].value_counts()\n",
        "\n",
        "# Define a color palette\n",
        "colors = ['blue', 'green', 'orange']\n",
        "\n",
        "# Create a bar plot with custom colors and labels\n",
        "plt.figure(figsize=(8, 6))\n",
        "ax = protocol_counts.plot(kind='bar', color=colors)\n",
        "\n",
        "# Adding labels inside the bars\n",
        "for p in ax.patches:\n",
        "    ax.annotate(str(p.get_height()), (p.get_x() + p.get_width() / 2., p.get_height()), ha='center', va='bottom')\n",
        "\n",
        "plt.title('Protocols Used by \"Locky\" Family')\n",
        "plt.xlabel('Protocol')\n",
        "plt.ylabel('Count')\n",
        "plt.xticks(rotation=0)\n",
        "plt.show()"
      ]
    },
    {
      "cell_type": "code",
      "execution_count": null,
      "id": "932005ce",
      "metadata": {
        "id": "932005ce"
      },
      "outputs": [],
      "source": [
        "locky_df = df[df['Family'] == 'Locky']\n",
        "\n",
        "# Count the occurrences of each threat in the Locky family\n",
        "threat_counts = locky_df['Threats'].value_counts()\n",
        "\n",
        "# Create a bar plot\n",
        "plt.figure(figsize=(10, 6))\n",
        "threat_counts.plot(kind='bar')\n",
        "plt.title('Threats Used by \"Locky\" Family')\n",
        "plt.xlabel('Threat')\n",
        "plt.ylabel('Count')\n",
        "plt.xticks(rotation=45)\n",
        "plt.show()\n"
      ]
    },
    {
      "cell_type": "code",
      "execution_count": null,
      "id": "fa7db6e1",
      "metadata": {
        "id": "fa7db6e1"
      },
      "outputs": [],
      "source": [
        "# Filter the DataFrame for only the \"Locky\" family\n",
        "locky_df = df[df['Family'] == 'Locky']\n",
        "\n",
        "# Count the occurrences of each threat in the Locky family\n",
        "threat_counts = locky_df['Threats'].value_counts()\n",
        "\n",
        "# Create a bar plot with different colors for each bar\n",
        "plt.figure(figsize=(11, 7))\n",
        "ax = threat_counts.plot(kind='bar', colormap='viridis')  # You can choose a different colormap\n",
        "\n",
        "plt.title('Threats Used by \"Locky\" Family')\n",
        "plt.xlabel('Threat')\n",
        "plt.ylabel('Count')\n",
        "plt.xticks(rotation=45)\n",
        "\n",
        "# Adding color bars to the legend\n",
        "for bar, count in zip(ax.patches, threat_counts.values):\n",
        "    ax.annotate(str(count), (bar.get_x() + bar.get_width() / 2, bar.get_height()), ha='center', va='bottom')\n",
        "\n",
        "plt.show()"
      ]
    },
    {
      "cell_type": "code",
      "execution_count": null,
      "id": "431d9b0f",
      "metadata": {
        "id": "431d9b0f"
      },
      "outputs": [],
      "source": []
    }
  ],
  "metadata": {
    "kernelspec": {
      "display_name": "Python 3 (ipykernel)",
      "language": "python",
      "name": "python3"
    },
    "language_info": {
      "codemirror_mode": {
        "name": "ipython",
        "version": 3
      },
      "file_extension": ".py",
      "mimetype": "text/x-python",
      "name": "python",
      "nbconvert_exporter": "python",
      "pygments_lexer": "ipython3",
      "version": "3.11.4"
    },
    "colab": {
      "provenance": []
    }
  },
  "nbformat": 4,
  "nbformat_minor": 5
}